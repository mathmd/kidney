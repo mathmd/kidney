{
 "cells": [
  {
   "cell_type": "code",
   "execution_count": 1,
   "metadata": {},
   "outputs": [],
   "source": [
    "import numpy as np\n",
    "from scipy.optimize import fsolve\n",
    "import matplotlib.pyplot as plt\n",
    "from IPython.display import display, clear_output\n",
    "%matplotlib inline\n",
    "plt.rcParams['figure.dpi']= 150"
   ]
  },
  {
   "attachments": {},
   "cell_type": "markdown",
   "metadata": {},
   "source": [
    "First, we define parameters:"
   ]
  },
  {
   "cell_type": "code",
   "execution_count": 2,
   "metadata": {},
   "outputs": [],
   "source": [
    "# Transport parameters\n",
    "s_perm = 0.1\n",
    "u_perm = 0.1\n",
    "w_perm_D = 0.1\n",
    "w_perm_C = 0.1\n",
    "S_input = 0.1\n",
    "U_input = 2\n",
    "C_osm = 2\n",
    "\n",
    "# discretization\n",
    "N = 10\n",
    "dx = 1/N"
   ]
  },
  {
   "attachments": {},
   "cell_type": "markdown",
   "metadata": {},
   "source": [
    "Now, we define the difference quotient operator and the average operator:"
   ]
  },
  {
   "cell_type": "code",
   "execution_count": 3,
   "metadata": {},
   "outputs": [],
   "source": [
    "def diff_x(y): \n",
    "    n = len(y)-1\n",
    "    diff = np.zeros(n)\n",
    "    for l in range(n):\n",
    "        diff[l] = (y[l+1]-y[l])/dx\n",
    "    \n",
    "    return diff\n",
    "\n",
    "\n",
    "def avg(y):\n",
    "    n = len(y)-1\n",
    "    average = np.zeros(n)\n",
    "    for l in range(n):\n",
    "        average[l] = (y[l+1]+y[l])/2\n",
    "    \n",
    "    return average"
   ]
  },
  {
   "attachments": {},
   "cell_type": "markdown",
   "metadata": {},
   "source": [
    "Next, we define $u_0$, $s_0$:"
   ]
  },
  {
   "cell_type": "code",
   "execution_count": 4,
   "metadata": {},
   "outputs": [],
   "source": [
    "def su_0(q_D,s,q_C,u,q_A,q_out,U_out):\n",
    "    D_avg = avg(q_D)\n",
    "    s_avg = avg(s)\n",
    "    u_avg = avg(u)\n",
    "    C_avg = avg(q_C)\n",
    "    A_avg = avg(q_A)\n",
    "    q_out_avg = avg(q_out)\n",
    "    U_out_avg = avg(U_out)\n",
    "\n",
    "    u_0 = np.zeros(N)\n",
    "    s_0 = np.zeros(N)\n",
    "    # Q = q_D[:-1]-q_D[-1]+q_C[:-1]-q_C[-1]\n",
    "    # Q = q_D[:-1]-q_A[:-1]+q_C[:-1]-q_out[:-1]\n",
    "    Q = D_avg+A_avg+C_avg-q_out_avg\n",
    "    # Q = D_avg - q_D[-1] + C_avg - q_C[-1]\n",
    "    # s_0[:] = (S_input + s[:-1]*q_A[:-1])/Q\n",
    "    if s_perm != 0:\n",
    "        s_0[:] = (S_input + s_avg*A_avg)/Q\n",
    "        # s_0[:] = (S_input - s_avg*q_D[-1])/Q\n",
    "    # u_0[:] = (u[:-1]*q_C[:-1]-u[-1]*q_C[-1])/Q\n",
    "    # u_0[:] = (u[:-1]*q_C[:-1]-U_out[:-1])/Q\n",
    "    if u_perm != 0:\n",
    "        u_0[:] = (u_avg*C_avg-U_out_avg)/Q\n",
    "        # u_0[:] = (u_avg*C_avg-u[-1]*q_C[-1])/Q\n",
    "    s_0 = np.abs(s_0)\n",
    "    u_0 = np.abs(u_0)\n",
    "\n",
    "    return s_0,u_0"
   ]
  },
  {
   "cell_type": "code",
   "execution_count": 5,
   "metadata": {},
   "outputs": [],
   "source": [
    "def res(y):\n",
    "    q_D = y[:(N+1)].copy()\n",
    "    # q_D = np.abs(y[:(N+1)])\n",
    "    s = y[(N+1):2*(N+1)].copy()\n",
    "    # s = np.abs(y[(N+1):2*(N+1)])\n",
    "    q_C = y[2*(N+1):3*(N+1)].copy()\n",
    "    # q_C = np.abs(y[2*(N+1):3*(N+1)])\n",
    "    u = y[3*(N+1):4*(N+1)].copy()\n",
    "    # u = np.abs(y[3*(N+1):4*(N+1)])\n",
    "    q_A = y[4*(N+1):5*(N+1)].copy()\n",
    "    # q_A = -np.abs(y[4*(N+1):5*(N+1)])\n",
    "    q_out = y[5*(N+1):6*(N+1)].copy()\n",
    "    U_out = y[6*(N+1):7*(N+1)].copy()\n",
    "    s_0,u_0 = su_0(q_D,s,q_C,u,q_A,q_out,U_out)\n",
    "\n",
    "    residue = np.zeros(7*(N+1))\n",
    "    res_D = residue[:(N+1)]\n",
    "    res_s = residue[(N+1):2*(N+1)]\n",
    "    res_C = residue[2*(N+1):3*(N+1)]\n",
    "    res_u = residue[3*(N+1):4*(N+1)]\n",
    "    res_A = residue[4*(N+1):5*(N+1)]\n",
    "    res_q_out = residue[5*(N+1):6*(N+1)]\n",
    "    res_U_out = residue[6*(N+1):7*(N+1)]\n",
    "\n",
    "    w_D = w_perm_D*(2*s_0 + u_0 - (2*S_input/avg(q_D)))\n",
    "    w_C = w_perm_C*(2*s_0 + u_0 - avg(u))\n",
    "    j_s = s_perm*(avg(s) - s_0)\n",
    "    j_u = u_perm*(avg(u) - u_0)\n",
    "\n",
    "    res_D[0] = q_D[0] - 2*S_input/C_osm\n",
    "    # res_D[1:] = diff_x(q_D) + w_D\n",
    "    res_D[1:] = w_D\n",
    "    # res_s[0] = s[-1]+S_input/q_A[-1]\n",
    "    res_s[0] = s[-1] - S_input/q_D[-1]\n",
    "    # res_s[1:] = diff_x(s) - (s_perm/q_D[-1])*(s[:-1] - s_0)\n",
    "    res_s[1:] = diff_x(s) + j_s/avg(q_A)\n",
    "    res_C[0] = q_C[0] - U_input/C_osm\n",
    "    res_C[1:] = diff_x(q_C) + w_C\n",
    "    res_u[0] = u[0] - C_osm\n",
    "    res_u[1:] = diff_x(u) - (1/avg(q_C))*(\n",
    "        avg(u)*w_C - j_u\n",
    "    )\n",
    "\n",
    "    res_A[0] = q_A[-1] + q_D[-1]\n",
    "    res_A[1:] = diff_x(q_A)\n",
    "    res_q_out[0] = q_out[-1] - q_C[-1]\n",
    "    res_q_out[1:] = diff_x(q_out)\n",
    "    res_U_out[0] = U_out[-1] - u[-1]*q_C[-1]\n",
    "    res_U_out[1:] = diff_x(U_out)\n",
    "\n",
    "    return residue"
   ]
  },
  {
   "attachments": {},
   "cell_type": "markdown",
   "metadata": {},
   "source": [
    "Finally, we put everything together:"
   ]
  },
  {
   "cell_type": "code",
   "execution_count": 6,
   "metadata": {},
   "outputs": [
    {
     "name": "stderr",
     "output_type": "stream",
     "text": [
      "c:\\Users\\馬予棟\\AppData\\Local\\Programs\\Python\\Python39\\lib\\site-packages\\scipy\\optimize\\minpack.py:175: RuntimeWarning: The iteration is not making good progress, as measured by the \n",
      "  improvement from the last five Jacobian evaluations.\n",
      "  warnings.warn(msg, RuntimeWarning)\n"
     ]
    }
   ],
   "source": [
    "# Transport parameters\n",
    "s_perm = 0.1\n",
    "u_perm = 0.1\n",
    "\n",
    "w_perm_D = 0.1\n",
    "w_perm_C = 0.1\n",
    "\n",
    "S_input = 0.1\n",
    "U_input = 2\n",
    "C_osm = 2\n",
    "\n",
    "\n",
    "# discretization\n",
    "N = 10\n",
    "dx = 1/N\n",
    "\n",
    "#Initial guess\n",
    "y_init = np.zeros(7*(N+1))\n",
    "q_D_init = y_init[:(N+1)]\n",
    "s_init = y_init[(N+1):2*(N+1)]\n",
    "q_C_init = y_init[2*(N+1):3*(N+1)]\n",
    "u_init = y_init[3*(N+1):4*(N+1)]\n",
    "q_A_init = y_init[4*(N+1):5*(N+1)]\n",
    "q_out_init = y_init[5*(N+1):6*(N+1)]\n",
    "U_out_init = y_init[6*(N+1):7*(N+1)]\n",
    "for n in range(N+1):\n",
    "    q_D_init[n] = (1- n/(1.2*N))*2*S_input/C_osm\n",
    "    # q_D_init[n] = 2*S_input/C_osm\n",
    "    s_init[n] = 0.1*n + C_osm/2\n",
    "    # s_init[n] = C_osm/2\n",
    "    q_C_init[n] = (1- n/(1.2*N))*U_input/C_osm\n",
    "    # q_C_init[n] = U_input/C_osm\n",
    "    u_init[n] = 0.2*n + C_osm\n",
    "    # u_init[n] = C_osm\n",
    "q_A_init[:] = -q_D_init[-1].copy()\n",
    "q_out_init[:] = q_C_init[-1].copy()\n",
    "U_out_init[:] = u_init[-1]*q_C_init[-1]\n",
    "\n",
    "y = fsolve(res,y_init)\n",
    "q_D = y[:(N+1)].copy()\n",
    "s = y[(N+1):2*(N+1)].copy()\n",
    "q_C = y[2*(N+1):3*(N+1)].copy()\n",
    "u = y[3*(N+1):4*(N+1)].copy()\n",
    "q_A = y[4*(N+1):5*(N+1)].copy()\n",
    "q_out = y[5*(N+1):6*(N+1)].copy()\n",
    "U_out = y[6*(N+1):7*(N+1)].copy()\n",
    "s_0,u_0 = su_0(q_D,s,q_C,u,q_A,q_out,U_out)\n",
    "osm = 2*s_0 + u_0"
   ]
  },
  {
   "attachments": {},
   "cell_type": "markdown",
   "metadata": {},
   "source": [
    "Let's plot the solution."
   ]
  }
 ],
 "metadata": {
  "kernelspec": {
   "display_name": "Python 3",
   "language": "python",
   "name": "python3"
  },
  "language_info": {
   "codemirror_mode": {
    "name": "ipython",
    "version": 3
   },
   "file_extension": ".py",
   "mimetype": "text/x-python",
   "name": "python",
   "nbconvert_exporter": "python",
   "pygments_lexer": "ipython3",
   "version": "3.9.7"
  },
  "orig_nbformat": 4
 },
 "nbformat": 4,
 "nbformat_minor": 2
}
