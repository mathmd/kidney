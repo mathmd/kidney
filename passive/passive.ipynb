{
 "cells": [
  {
   "cell_type": "code",
   "execution_count": 1,
   "metadata": {},
   "outputs": [],
   "source": [
    "import numpy as np\n",
    "from scipy.optimize import fsolve\n",
    "import matplotlib.pyplot as plt\n",
    "from IPython.display import display, clear_output, Audio\n",
    "%matplotlib inline\n",
    "plt.rcParams['figure.dpi']= 150"
   ]
  },
  {
   "attachments": {},
   "cell_type": "markdown",
   "metadata": {},
   "source": [
    "First, we define parameters:"
   ]
  },
  {
   "cell_type": "code",
   "execution_count": 2,
   "metadata": {},
   "outputs": [],
   "source": [
    "# Transport parameters\n",
    "s_perm = 0.1\n",
    "u_perm = 0.1\n",
    "w_perm = 0.1\n",
    "S_input = 0.1\n",
    "U_input = 1\n",
    "C_osm = 2\n",
    "\n",
    "# discretization\n",
    "N = 10\n",
    "dx = 1/N"
   ]
  },
  {
   "attachments": {},
   "cell_type": "markdown",
   "metadata": {},
   "source": [
    "Now, we define the difference quotient operator"
   ]
  },
  {
   "cell_type": "code",
   "execution_count": 3,
   "metadata": {},
   "outputs": [],
   "source": [
    "def diff_x(y): \n",
    "    n = len(y)-1\n",
    "    diff = np.zeros(n)\n",
    "    for l in range(n):\n",
    "        diff[l] = (y[l+1]-y[l])/dx\n",
    "    \n",
    "    return diff\n",
    "\n",
    "def avg(y):\n",
    "    n = len(y)-1\n",
    "    average = np.zeros(n)\n",
    "    for l in range(n):\n",
    "        average[l] = (y[l+1]+y[l])/2\n",
    "    \n",
    "    return average"
   ]
  },
  {
   "attachments": {},
   "cell_type": "markdown",
   "metadata": {},
   "source": [
    "Next, we define $u_0$, $s_0$:"
   ]
  },
  {
   "cell_type": "code",
   "execution_count": 4,
   "metadata": {},
   "outputs": [],
   "source": [
    "def su_0(s_avg,q_avg,u_avg,s_1,q_out,u_out):\n",
    "    u_0 = np.zeros(N)\n",
    "    s_0 = np.zeros(N)\n",
    "    R = np.zeros(N)\n",
    "    \n",
    "    # R[:] = (u[:-1]*q[:-1] - u[-1]*q[-1])/(S_input*(1-(s[:-1]/s[-1])))\n",
    "    # R[:] = (u_avg*q_avg - u[-1]*q[-1])/(S_input*(1-(s_avg/s[-1])))\n",
    "    R[:] = (u_avg*q_avg - u_out)/(S_input*(1-(s_avg/s_1)))\n",
    "    # s_0[:] = S_input*(1-(s[:-1]/s[-1])-(2/(2+R[:])))/(q[:-1]-q[-1]-(S_input/s[-1]))\n",
    "    # s_0[:] = S_input*(1-(s_avg/s[-1])-(2/(2+R[:])))/(q_avg-q[-1]-(S_input/s[-1]))\n",
    "    s_0[:] = S_input*(1-(s_avg/s_1)-(2/(2+R[:])))/(q_avg-q_out-(S_input/s_1))\n",
    "    u_0[:] = R[:]*s_0[:]\n",
    "\n",
    "    return s_0,u_0"
   ]
  },
  {
   "cell_type": "code",
   "execution_count": 5,
   "metadata": {},
   "outputs": [],
   "source": [
    "def res(y):\n",
    "    s = y[:(N+1)].copy()\n",
    "    # s = np.abs(y[:(N+1)])\n",
    "    q = y[(N+1):2*(N+1)].copy()\n",
    "    # q = np.abs(y[(N+1):2*(N+1)])\n",
    "    u = y[2*(N+1):3*(N+1)].copy()\n",
    "    # u = np.abs(y[2*(N+1):3*(N+1)])\n",
    "    s_1 = y[3*(N+1):4*(N+1)].copy()\n",
    "    q_out = y[4*(N+1):5*(N+1)].copy()\n",
    "    u_out = y[5*(N+1):6*(N+1)].copy()\n",
    "    s_avg = avg(s)\n",
    "    q_avg = avg(q)\n",
    "    u_avg = avg(u)\n",
    "    s_1_avg = avg(s_1)\n",
    "    q_out_avg = avg(q_out)\n",
    "    u_out_avg = avg(u_out)\n",
    "    s_0,u_0 = su_0(s_avg,q_avg,u_avg,s_1_avg,q_out_avg,u_out_avg)\n",
    "    \n",
    "\n",
    "    # residue = np.zeros(3*(N+1))\n",
    "    residue = np.zeros(6*(N+1))\n",
    "    res_s = residue[:(N+1)]\n",
    "    res_q = residue[(N+1):2*(N+1)]\n",
    "    res_u = residue[2*(N+1):3*(N+1)]\n",
    "    res_s_1 = residue[3*(N+1):4*(N+1)]\n",
    "    res_q_out = residue[4*(N+1):5*(N+1)]\n",
    "    res_u_out = residue[5*(N+1):6*(N+1)]\n",
    "\n",
    "    # R_0 = (u[0]*q[0] - u[-1]*q[-1])/(S_input*(1-(s[0]/s[-1])))\n",
    "    R_0 = (u[0]*q[0] - u_out[0])/(S_input*(1-(s[0]/s_1[0])))\n",
    "    # s_00 = S_input*(1-(s[0]/s[-1])-(2/(2+R_0)))/(q[0]-q[-1]-(S_input/s[-1]))\n",
    "    s_00 = S_input*(1-(s[0]/s_1[0])-(2/(2+R_0)))/(q[0]-q_out[0]-(S_input/s_1[0]))\n",
    "    # res_s[0] = s[0] - s_00 - s[-1]*(1 - (s_00/S_input)*(((2*S_input+U_input)/C_osm) - q[-1]))\n",
    "    res_s[0] = s[0] - s_00 - s_1[0]*(1 - (s_00/S_input)*(((2*S_input+U_input)/C_osm) - q_out[0]))\n",
    "    # res_s[1:] = diff_x(s) - (s_perm*s[-1]/S_input)*(s_avg - s_0)\n",
    "    res_s[1:] = diff_x(s) - (s_perm*s_1_avg/S_input)*(s_avg - s_0)\n",
    "    res_q[0] = q[0] - U_input/C_osm\n",
    "    res_q[1:] = diff_x(q) + w_perm*(2*s_0 + u_0 - u_avg)\n",
    "    res_u[0] = u[0] - C_osm\n",
    "    res_u[1:] = diff_x(u) - (1/q_avg)*(\n",
    "        w_perm*u_avg*(2*s_0+u_0 - u_avg)\n",
    "        - u_perm*(u_avg - u_0)\n",
    "    )\n",
    "    res_s_1[0] = s[-1] - s_1[-1]\n",
    "    res_s_1[1:] = diff_x(s_1)\n",
    "    res_q_out[0] = q[-1] - q_out[-1]\n",
    "    res_q_out[1:] = diff_x(q_out)\n",
    "    res_u_out[0] = u[-1]*q[-1] - u_out[-1]\n",
    "    res_u_out[1:] = diff_x(u_out)\n",
    "\n",
    "    return residue"
   ]
  },
  {
   "attachments": {},
   "cell_type": "markdown",
   "metadata": {},
   "source": [
    "Finally, we put everything together:"
   ]
  },
  {
   "cell_type": "code",
   "execution_count": 10,
   "metadata": {},
   "outputs": [],
   "source": [
    "# Transport parameters\n",
    "s_perm = 1\n",
    "u_perm = 1\n",
    "w_perm = 1\n",
    "S_input = .001\n",
    "U_input = 2\n",
    "C_osm = 2\n",
    "\n",
    "# discretization\n",
    "N = 4\n",
    "dx = 1/N\n",
    "\n",
    "#Initial guess\n",
    "# y_init = np.zeros(3*(N+1))\n",
    "y_init = np.zeros(6*(N+1))\n",
    "s_init = y_init[:(N+1)]\n",
    "q_init = y_init[(N+1):2*(N+1)]\n",
    "u_init = y_init[2*(N+1):3*(N+1)]\n",
    "s_1_init = y_init[3*(N+1):4*(N+1)]\n",
    "q_out_init = y_init[4*(N+1):5*(N+1)]\n",
    "u_out_init = y_init[5*(N+1):6*(N+1)]\n",
    "for n in range(N+1):\n",
    "    # s_init[n] = 0.1*n + C_osm/2\n",
    "    s_init[n] = n + C_osm/2\n",
    "    u_init[n] = 2*n + C_osm\n",
    "    q_init[n] = (1- n/(2*N))*U_input/C_osm\n",
    "s_1_init[:] = s_init[-1].copy()\n",
    "q_out_init[:] = q_init[-1].copy()\n",
    "u_out_init[:] = u_init[-1]*q_init[-1]\n",
    "\n",
    "y = fsolve(res,y_init)\n",
    "s = y[:(N+1)]\n",
    "q = y[(N+1):2*(N+1)]\n",
    "u = y[2*(N+1):3*(N+1)]\n",
    "s_1 = y[3*(N+1):4*(N+1)]\n",
    "q_out = y[4*(N+1):5*(N+1)]\n",
    "u_out = y[5*(N+1):6*(N+1)]\n",
    "s_0,u_0 = su_0(avg(s),avg(q),avg(u),avg(s_1),avg(q_out),avg(u_out))\n",
    "osm = 2*s_0+u_0"
   ]
  },
  {
   "cell_type": "code",
   "execution_count": null,
   "metadata": {},
   "outputs": [],
   "source": []
  }
 ],
 "metadata": {
  "kernelspec": {
   "display_name": "Python 3",
   "language": "python",
   "name": "python3"
  },
  "language_info": {
   "codemirror_mode": {
    "name": "ipython",
    "version": 3
   },
   "file_extension": ".py",
   "mimetype": "text/x-python",
   "name": "python",
   "nbconvert_exporter": "python",
   "pygments_lexer": "ipython3",
   "version": "3.9.7"
  },
  "orig_nbformat": 4
 },
 "nbformat": 4,
 "nbformat_minor": 2
}
